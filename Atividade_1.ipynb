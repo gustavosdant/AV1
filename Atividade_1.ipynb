{
 "cells": [
  {
   "cell_type": "markdown",
   "id": "dddc7734",
   "metadata": {},
   "source": [
    "Tarefas:\n",
    "\n",
    " • Solicite ao usuário o número do RA.\n",
    "\n",
    " • Calcule a soma dos dígitos do RA.\n",
    "\n",
    " • Defina  (soma dos dígitos do RA).\n",
    " \n",
    " • Calcule e imprima a altura máxima atingida pelo projétil usando a expressão\n",
    "\n",
    " • Mostre o valor de  utilizado e a altura máxima calculada."
   ]
  },
  {
   "cell_type": "markdown",
   "id": "39f7e63a",
   "metadata": {},
   "source": [
    "![alt text](Fluxograma.png)"
   ]
  },
  {
   "cell_type": "code",
   "execution_count": 5,
   "id": "c0eaa6e2",
   "metadata": {},
   "outputs": [
    {
     "name": "stdout",
     "output_type": "stream",
     "text": [
      "Soma dos dígitos do RA:  18\n",
      "Velocidade inicial v0:  36 m/s\n",
      "Altura máxima atingida:  6350.400000000001 m\n"
     ]
    }
   ],
   "source": [
    "Ra = int(input(\"Digite seu RA: \"))\n",
    "\n",
    "def separar_num(num_Ra):\n",
    "\n",
    "    lista_num = []\n",
    "    soma = 0\n",
    "    while num_Ra > 0:\n",
    "        num_Ra, resto = divmod(num_Ra, 10)\n",
    "        lista_num.append(resto)\n",
    "        soma = soma + resto\n",
    "\n",
    "    return soma, lista_num\n",
    "\n",
    "V_0 = 2*separar_num(Ra)[0]\n",
    "\n",
    "print(\"Soma dos dígitos do RA: \", separar_num(Ra)[0])\n",
    "\n",
    "print(\"Velocidade inicial v0: \", V_0, \"m/s\")\n",
    "\n",
    "def altura(velocidade):\n",
    "    return (velocidade**2)/2*9.8\n",
    "\n",
    "\n",
    "print(\"Altura máxima atingida: \", altura(V_0), \"m\")\n"
   ]
  },
  {
   "cell_type": "markdown",
   "id": "efa3dd24",
   "metadata": {},
   "source": []
  }
 ],
 "metadata": {
  "kernelspec": {
   "display_name": "base",
   "language": "python",
   "name": "python3"
  },
  "language_info": {
   "codemirror_mode": {
    "name": "ipython",
    "version": 3
   },
   "file_extension": ".py",
   "mimetype": "text/x-python",
   "name": "python",
   "nbconvert_exporter": "python",
   "pygments_lexer": "ipython3",
   "version": "3.12.7"
  }
 },
 "nbformat": 4,
 "nbformat_minor": 5
}
